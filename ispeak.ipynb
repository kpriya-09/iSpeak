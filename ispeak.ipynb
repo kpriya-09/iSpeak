{
  "cells": [
    {
      "cell_type": "code",
      "source": [
        "import numpy as np\r\n",
        "import pandas as pd\r\n",
        "import tensorflow as tf\r\n",
        "import matplotlib.pyplot as plt\r\n",
        "from os import getcwd\r\n",
        "import csv\r\n"
      ],
      "outputs": [],
      "execution_count": 3,
      "metadata": {
        "gather": {
          "logged": 1623391783145
        }
      }
    },
    {
      "cell_type": "code",
      "source": [
        "#Initializing path variables\r\n",
        "path_train = \"sign_mnist_train.csv\"\r\n",
        "path_test = \"sign_mnist_test.csv\"\r\n",
        "\r\n",
        "#read csv using pandas\r\n",
        "train = pd.read_csv(path_train)\r\n",
        "test= pd.read_csv(path_test)\r\n",
        "\r\n",
        "print(train.shape)\r\n"
      ],
      "outputs": [
        {
          "output_type": "stream",
          "name": "stdout",
          "text": [
            "(27455, 785)\n"
          ]
        }
      ],
      "execution_count": 16,
      "metadata": {
        "collapsed": true,
        "jupyter": {
          "source_hidden": false,
          "outputs_hidden": false
        },
        "nteract": {
          "transient": {
            "deleting": false
          }
        },
        "gather": {
          "logged": 1623392099226
        }
      }
    },
    {
      "cell_type": "code",
      "source": [
        "#split x (image) and y (label)\r\n",
        "train_Y = train['label']\r\n",
        "test_Y = test['label']\r\n",
        "train_X = train.drop(['label'],axis = 1)\r\n",
        "test_X = test.drop(['label'],axis = 1)\r\n",
        "\r\n",
        "print(test_X.shape)"
      ],
      "outputs": [
        {
          "output_type": "stream",
          "name": "stdout",
          "text": [
            "(7172, 784)\n"
          ]
        }
      ],
      "execution_count": 17,
      "metadata": {
        "collapsed": true,
        "jupyter": {
          "source_hidden": false,
          "outputs_hidden": false
        },
        "nteract": {
          "transient": {
            "deleting": false
          }
        },
        "gather": {
          "logged": 1623392102053
        }
      }
    },
    {
      "cell_type": "code",
      "source": [
        "#reshape the 784 pixels to form a 28x28 image\r\n",
        "train_X = train_X.values.reshape(27455,28,28)\r\n",
        "test_X = test_X.values.reshape(7172,28,28)"
      ],
      "outputs": [],
      "execution_count": 18,
      "metadata": {
        "collapsed": true,
        "jupyter": {
          "source_hidden": false,
          "outputs_hidden": false
        },
        "nteract": {
          "transient": {
            "deleting": false
          }
        },
        "gather": {
          "logged": 1623392104685
        }
      }
    },
    {
      "cell_type": "code",
      "source": [
        "#expand dimensions of the train_X and test_X before passing to the model\r\n",
        "train_X = np.expand_dims(train_X,3)\r\n",
        "test_X = np.expand_dims(test_X,3)"
      ],
      "outputs": [],
      "execution_count": 19,
      "metadata": {
        "collapsed": true,
        "jupyter": {
          "source_hidden": false,
          "outputs_hidden": false
        },
        "nteract": {
          "transient": {
            "deleting": false
          }
        },
        "gather": {
          "logged": 1623392108044
        }
      }
    },
    {
      "cell_type": "code",
      "source": [
        "#callback function - called when Learning Rate Plateaus\r\n",
        "learning_rate_reduction = tf.keras.callbacks.ReduceLROnPlateau(monitor='val_accuracy',\r\n",
        "                                patience = 2, \r\n",
        "                                verbose=1,\r\n",
        "                                factor=0.5, \r\n",
        "                                min_lr=0.00001)\r\n",
        "\r\n",
        "early_stopping = tf.keras.callbacks.EarlyStopping(\r\n",
        "    monitor=\"val_accuracy\",\r\n",
        "    patience=20,\r\n",
        "    verbose=1,\r\n",
        "    mode=\"auto\",\r\n",
        ")\r\n",
        "\r\n",
        "my_callbacks = [learning_rate_reduction, early_stopping]\r\n",
        "\r\n",
        "\r\n",
        "#rescaling the training and validation data before feeding it to the model\r\n",
        "train_datagen=tf.keras.preprocessing.image.ImageDataGenerator(\r\n",
        "    rescale=1./255,\r\n",
        "    rotation_range=10,\r\n",
        "    zoom_range = 0.1,\r\n",
        "    width_shift_range=0.2,\r\n",
        "    height_shift_range=0.2,\r\n",
        "    )\r\n",
        "validation_datagen=tf.keras.preprocessing.image.ImageDataGenerator(rescale=1./255)               "
      ],
      "outputs": [],
      "execution_count": 36,
      "metadata": {
        "collapsed": true,
        "jupyter": {
          "source_hidden": false,
          "outputs_hidden": false
        },
        "nteract": {
          "transient": {
            "deleting": false
          }
        },
        "gather": {
          "logged": 1623394557321
        }
      }
    },
    {
      "cell_type": "code",
      "source": [
        "#model\r\n",
        "model = tf.keras.models.Sequential([\r\n",
        "    tf.keras.layers.Conv2D(1024, (3,3), strides = 1, \r\n",
        "                        padding = 'same', \r\n",
        "                        activation = 'relu' , \r\n",
        "                        input_shape = (28,28,1)),\r\n",
        "    tf.keras.layers.BatchNormalization(),\r\n",
        "    tf.keras.layers.MaxPool2D((2,2) , strides = 2 , padding = 'same'),\r\n",
        "    tf.keras.layers.Conv2D(512, (3,3), strides = 1, \r\n",
        "                        padding = 'same', \r\n",
        "                        activation = 'relu'),\r\n",
        "    tf.keras.layers.Dropout(0.1),\r\n",
        "    tf.keras.layers.MaxPool2D((2,2) , strides = 2 , padding = 'same'),\r\n",
        "    tf.keras.layers.Conv2D(64, (3,3), strides = 1,\r\n",
        "                        padding = 'same', \r\n",
        "                        activation = 'relu'),\r\n",
        "    tf.keras.layers.BatchNormalization(),\r\n",
        "    tf.keras.layers.MaxPool2D((2,2) , strides = 2 , padding = 'same'),\r\n",
        "    tf.keras.layers.Flatten(),    \r\n",
        "    tf.keras.layers.Dense(512, activation='relu'),\r\n",
        "    tf.keras.layers.Dropout(0.1),\r\n",
        "    tf.keras.layers.Dense(25, activation='softmax')\r\n",
        "])\r\n",
        "\r\n"
      ],
      "outputs": [],
      "execution_count": 37,
      "metadata": {
        "collapsed": true,
        "jupyter": {
          "source_hidden": false,
          "outputs_hidden": false
        },
        "nteract": {
          "transient": {
            "deleting": false
          }
        },
        "gather": {
          "logged": 1623394563498
        }
      }
    },
    {
      "cell_type": "code",
      "source": [
        "# Compile the Model\r\n",
        "model.compile(loss = 'sparse_categorical_crossentropy', \r\n",
        "            optimizer='adam', \r\n",
        "            metrics=['accuracy'])\r\n",
        "\r\n",
        "model.summary()\r\n"
      ],
      "outputs": [
        {
          "output_type": "stream",
          "name": "stdout",
          "text": [
            "Model: \"sequential_5\"\n",
            "_________________________________________________________________\n",
            "Layer (type)                 Output Shape              Param #   \n",
            "=================================================================\n",
            "conv2d_15 (Conv2D)           (None, 28, 28, 1024)      10240     \n",
            "_________________________________________________________________\n",
            "batch_normalization_13 (Batc (None, 28, 28, 1024)      4096      \n",
            "_________________________________________________________________\n",
            "max_pooling2d_15 (MaxPooling (None, 14, 14, 1024)      0         \n",
            "_________________________________________________________________\n",
            "conv2d_16 (Conv2D)           (None, 14, 14, 512)       4719104   \n",
            "_________________________________________________________________\n",
            "dropout_10 (Dropout)         (None, 14, 14, 512)       0         \n",
            "_________________________________________________________________\n",
            "max_pooling2d_16 (MaxPooling (None, 7, 7, 512)         0         \n",
            "_________________________________________________________________\n",
            "conv2d_17 (Conv2D)           (None, 7, 7, 64)          294976    \n",
            "_________________________________________________________________\n",
            "batch_normalization_14 (Batc (None, 7, 7, 64)          256       \n",
            "_________________________________________________________________\n",
            "max_pooling2d_17 (MaxPooling (None, 4, 4, 64)          0         \n",
            "_________________________________________________________________\n",
            "flatten_5 (Flatten)          (None, 1024)              0         \n",
            "_________________________________________________________________\n",
            "dense_10 (Dense)             (None, 512)               524800    \n",
            "_________________________________________________________________\n",
            "dropout_11 (Dropout)         (None, 512)               0         \n",
            "_________________________________________________________________\n",
            "dense_11 (Dense)             (None, 25)                12825     \n",
            "=================================================================\n",
            "Total params: 5,566,297\n",
            "Trainable params: 5,564,121\n",
            "Non-trainable params: 2,176\n",
            "_________________________________________________________________\n"
          ]
        }
      ],
      "execution_count": 38,
      "metadata": {
        "collapsed": true,
        "jupyter": {
          "source_hidden": false,
          "outputs_hidden": false
        },
        "nteract": {
          "transient": {
            "deleting": false
          }
        },
        "gather": {
          "logged": 1623394565928
        }
      }
    },
    {
      "cell_type": "code",
      "source": [
        "# Train the Model\r\n",
        "history=model.fit(train_datagen.flow(train_X,\r\n",
        "                                    train_Y,\r\n",
        "                                    batch_size=128),\r\n",
        "                    epochs=100,                    \r\n",
        "                    validation_data=validation_datagen.flow(test_X,\r\n",
        "                                                    test_Y,\r\n",
        "                                                    batch_size=32),\r\n",
        "                    callbacks = my_callbacks)\r\n",
        "\r\n"
      ],
      "outputs": [
        {
          "output_type": "stream",
          "name": "stdout",
          "text": [
            "WARNING:tensorflow:sample_weight modes were coerced from\n",
            "  ...\n",
            "    to  \n",
            "  ['...']\n",
            "WARNING:tensorflow:sample_weight modes were coerced from\n",
            "  ...\n",
            "    to  \n",
            "  ['...']\n",
            "Train for 215 steps, validate for 225 steps\n",
            "Epoch 1/100\n",
            "215/215 [==============================] - 61s 282ms/step - loss: 1.5466 - accuracy: 0.5247 - val_loss: 8.5872 - val_accuracy: 0.0463\b\b\b\b\b\b\b\b\b\b\b\b\b\b\b\b\b\b\b\b\b\b\b\b\b\b\b\b\b\b\b\b\b\b\b\b\b\b\b\b\b\n",
            "Epoch 2/100\n",
            "215/215 [==============================] - 55s 258ms/step - loss: 0.2470 - accuracy: 0.9183 - val_loss: 3.7517 - val_accuracy: 0.2950\b\b\b\b\b\b\b\b\b\b\b\b\b\b\b\b\b\b\b\b\b\b\b\b\b\b\b\b\b\b\b\b\b\b\b\b\b\n",
            "Epoch 3/100\n",
            "215/215 [==============================] - 55s 257ms/step - loss: 0.1099 - accuracy: 0.9638 - val_loss: 0.3063 - val_accuracy: 0.9038\b\b\b\b\b\b\b\b\b\b\b\b\b\b\b\b\b\b\b\b\b\b\b\b\b\b\b\b\b\b\b\b\b\b\b\b\b\n",
            "Epoch 4/100\n",
            "215/215 [==============================] - 55s 257ms/step - loss: 0.0614 - accuracy: 0.9799 - val_loss: 0.2133 - val_accuracy: 0.9281\b\b\b\b\b\b\b\b\b\b\b\b\b\b\b\b\b\b\b\b\b\b\b\b\b\b\b\b\b\b\b\b\b\b\b\b\b\n",
            "Epoch 5/100\n",
            "215/215 [==============================] - 55s 258ms/step - loss: 0.0500 - accuracy: 0.9842 - val_loss: 0.0616 - val_accuracy: 0.9735\b\b\b\b\b\b\b\b\b\b\b\b\b\b\b\b\b\b\b\b\b\b\b\b\b\b\b\b\b\b\b\b\b\b\b\b\b\n",
            "Epoch 6/100\n",
            "215/215 [==============================] - 55s 258ms/step - loss: 0.0356 - accuracy: 0.9889 - val_loss: 0.1121 - val_accuracy: 0.9672\b\b\b\b\b\b\b\b\b\b\b\b\b\b\b\b\b\b\b\b\b\b\b\b\b\b\b\b\b\b\b\b\b\b\b\b\b\n",
            "Epoch 7/100\n",
            "215/215 [==============================] - 55s 256ms/step - loss: 0.0277 - accuracy: 0.9913 - val_loss: 0.0261 - val_accuracy: 0.9932\b\b\b\b\b\b\b\b\b\b\b\b\b\b\b\b\b\b\b\b\b\b\b\b\b\b\b\b\b\b\b\b\b\b\b\b\b\n",
            "Epoch 8/100\n",
            "215/215 [==============================] - 55s 256ms/step - loss: 0.0269 - accuracy: 0.9914 - val_loss: 0.4328 - val_accuracy: 0.8779\b\b\b\b\b\b\b\b\b\b\b\b\b\b\b\b\b\b\b\b\b\b\b\b\b\b\b\b\b\b\b\b\b\b\b\b\b\n",
            "Epoch 9/100\n",
            "214/215 [============================>.] - ETA: 0s - loss: 0.0210 - accuracy: 0.9933\b\b\b\b\b\b\b\b\b\b\b\b\b\b\b\b\b\b\b\b\b\b\b\b\b\b\b\b\b\b\b\b\b\b\b\b\b\b\b\b\b\b\b\b\b\b\b\b\b\b\b\b\b\b\b\b\b\b\b\b\b\b\b\b\b\b\b\b\b\b\b\b\b\b\b\b\b\b\b\b\b\b\b\b\b\b\n",
            "Epoch 00009: ReduceLROnPlateau reducing learning rate to 0.0005000000237487257.\n",
            "215/215 [==============================] - 55s 255ms/step - loss: 0.0209 - accuracy: 0.9934 - val_loss: 1.5554 - val_accuracy: 0.7160\n",
            "Epoch 10/100\n",
            "215/215 [==============================] - 55s 256ms/step - loss: 0.0121 - accuracy: 0.9960 - val_loss: 0.0255 - val_accuracy: 0.9898\b\b\b\b\b\b\b\b\b\b\b\b\b\b\b\b\b\b\b\b\b\b\b\b\b\b\b\b\b\b\b\b\b\b\b\b\b\n",
            "Epoch 11/100\n",
            "215/215 [==============================] - 55s 255ms/step - loss: 0.0070 - accuracy: 0.9980 - val_loss: 0.0043 - val_accuracy: 0.9976\b\b\b\b\b\b\b\b\b\b\b\b\b\b\b\b\b\b\b\b\b\b\b\b\b\b\b\b\b\b\b\b\b\b\b\b\b\n",
            "Epoch 12/100\n",
            "215/215 [==============================] - 55s 255ms/step - loss: 0.0067 - accuracy: 0.9979 - val_loss: 0.0110 - val_accuracy: 0.9960\b\b\b\b\b\b\b\b\b\b\b\b\b\b\b\b\b\b\b\b\b\b\b\b\b\b\b\b\b\b\b\b\b\b\b\b\b\n",
            "Epoch 13/100\n",
            "215/215 [==============================] - 55s 255ms/step - loss: 0.0057 - accuracy: 0.9981 - val_loss: 0.0031 - val_accuracy: 0.9990\b\b\b\b\b\b\b\b\b\b\b\b\b\b\b\b\b\b\b\b\b\b\b\b\b\b\b\b\b\b\b\b\b\b\b\b\b\b\b\b\b\b\b\b\b\n",
            "Epoch 14/100\n",
            "215/215 [==============================] - 55s 255ms/step - loss: 0.0093 - accuracy: 0.9969 - val_loss: 0.0068 - val_accuracy: 0.9975\b\b\b\b\b\b\b\b\b\b\b\b\b\b\b\b\b\b\b\b\b\b\b\b\b\b\b\b\b\b\b\b\b\b\b\b\b\n",
            "Epoch 15/100\n",
            "214/215 [============================>.] - ETA: 0s - loss: 0.0083 - accuracy: 0.9973\b\b\b\b\b\b\b\b\b\b\b\b\b\b\b\b\b\b\b\b\b\b\b\b\b\b\b\b\b\b\b\b\b\b\b\b\b\b\b\b\b\b\b\b\b\b\b\b\b\b\b\b\b\b\b\b\b\b\b\b\b\b\b\b\b\b\b\b\b\b\b\b\b\b\b\b\b\b\b\b\b\b\b\b\b\b\n",
            "Epoch 00015: ReduceLROnPlateau reducing learning rate to 0.0002500000118743628.\n",
            "215/215 [==============================] - 55s 255ms/step - loss: 0.0082 - accuracy: 0.9973 - val_loss: 0.0106 - val_accuracy: 0.9971\n",
            "Epoch 16/100\n",
            "215/215 [==============================] - 55s 256ms/step - loss: 0.0037 - accuracy: 0.9990 - val_loss: 0.0015 - val_accuracy: 0.9997\b\b\b\b\b\b\b\b\b\b\b\b\b\b\b\b\b\b\b\b\b\b\b\b\b\b\b\b\b\b\b\b\b\b\b\b\b\n",
            "Epoch 17/100\n",
            "215/215 [==============================] - 55s 256ms/step - loss: 0.0032 - accuracy: 0.9988 - val_loss: 2.6039e-04 - val_accuracy: 1.0000\b\b\b\b\b\b\b\b\b\b\b\b\b\b\b\b\b\b\b\b\b\b\b\b\b\b\b\b\b\b\b\b\b\b\b\b\b\b\b\b\b\n",
            "Epoch 18/100\n",
            "215/215 [==============================] - 55s 255ms/step - loss: 0.0026 - accuracy: 0.9991 - val_loss: 0.0049 - val_accuracy: 0.9983\b\b\b\b\b\b\b\b\b\b\b\b\b\b\b\b\b\b\b\b\b\b\b\b\b\b\b\b\b\b\b\b\b\b\b\b\b\n",
            "Epoch 19/100\n",
            "214/215 [============================>.] - ETA: 0s - loss: 0.0030 - accuracy: 0.9991\b\b\b\b\b\b\b\b\b\b\b\b\b\b\b\b\b\b\b\b\b\b\b\b\b\b\b\b\b\b\b\b\b\b\b\b\b\b\b\b\b\b\b\b\b\b\b\b\b\b\b\b\b\b\b\b\b\b\b\b\b\b\b\b\b\b\b\b\b\b\b\b\b\b\b\b\b\b\b\b\b\b\b\b\b\b\b\b\b\b\b\b\b\b\n",
            "Epoch 00019: ReduceLROnPlateau reducing learning rate to 0.0001250000059371814.\n",
            "215/215 [==============================] - 55s 255ms/step - loss: 0.0030 - accuracy: 0.9991 - val_loss: 0.0086 - val_accuracy: 0.9972\n",
            "Epoch 20/100\n",
            "215/215 [==============================] - 55s 256ms/step - loss: 0.0023 - accuracy: 0.9995 - val_loss: 0.0094 - val_accuracy: 0.9972\b\b\b\b\b\b\b\b\b\b\b\b\b\b\b\b\b\b\b\b\b\b\b\b\b\b\b\b\b\b\b\b\b\b\b\b\b\n",
            "Epoch 21/100\n",
            "214/215 [============================>.] - ETA: 0s - loss: 0.0014 - accuracy: 0.9996\b\b\b\b\b\b\b\b\b\b\b\b\b\b\b\b\b\b\b\b\b\b\b\b\b\b\b\b\b\b\b\b\b\b\b\b\b\b\b\b\b\b\b\b\b\b\b\b\b\b\b\b\b\b\b\b\b\b\b\b\b\b\b\b\b\b\b\b\b\b\b\b\b\b\b\b\b\b\b\b\b\b\b\b\b\b\b\b\b\b\b\b\b\b\n",
            "Epoch 00021: ReduceLROnPlateau reducing learning rate to 6.25000029685907e-05.\n",
            "215/215 [==============================] - 55s 256ms/step - loss: 0.0014 - accuracy: 0.9996 - val_loss: 3.1271e-04 - val_accuracy: 1.0000\n",
            "Epoch 22/100\n",
            "215/215 [==============================] - 55s 256ms/step - loss: 0.0010 - accuracy: 0.9996 - val_loss: 2.0552e-04 - val_accuracy: 1.0000\b\b\b\b\b\b\b\b\b\b\b\b\b\b\b\b\b\b\b\b\b\b\b\b\b\b\b\b\b\b\b\b\b\b\b\b\b\b\b\b\b\n",
            "Epoch 23/100\n",
            "214/215 [============================>.] - ETA: 0s - loss: 0.0010 - accuracy: 0.9997\b\b\b\b\b\b\b\b\b\b\b\b\b\b\b\b\b\b\b\b\b\b\b\b\b\b\b\b\b\b\b\b\b\b\b\b\b\b\b\b\b\b\b\b\b\b\b\b\b\b\b\b\b\b\b\b\b\b\b\b\b\b\b\b\b\b\b\b\b\b\b\b\b\b\b\b\b\b\b\b\b\b\b\b\b\b\b\b\b\b\b\b\b\b\n",
            "Epoch 00023: ReduceLROnPlateau reducing learning rate to 3.125000148429535e-05.\n",
            "215/215 [==============================] - 55s 255ms/step - loss: 0.0010 - accuracy: 0.9997 - val_loss: 8.8991e-05 - val_accuracy: 1.0000\n",
            "Epoch 24/100\n",
            "215/215 [==============================] - 55s 256ms/step - loss: 0.0011 - accuracy: 0.9998 - val_loss: 1.0375e-04 - val_accuracy: 1.0000\b\b\b\b\b\b\b\b\b\b\b\b\b\b\b\b\b\b\b\b\b\b\b\b\b\b\b\b\b\b\b\b\b\b\b\b\b\b\b\b\b\n",
            "Epoch 25/100\n",
            "214/215 [============================>.] - ETA: 0s - loss: 0.0012 - accuracy: 0.9997\b\b\b\b\b\b\b\b\b\b\b\b\b\b\b\b\b\b\b\b\b\b\b\b\b\b\b\b\b\b\b\b\b\b\b\b\b\b\b\b\b\b\b\b\b\b\b\b\b\b\b\b\b\b\b\b\b\b\b\b\b\b\b\b\b\b\b\b\b\b\b\b\b\b\b\b\b\b\b\b\b\b\b\b\b\b\b\b\b\b\b\b\b\b\n",
            "Epoch 00025: ReduceLROnPlateau reducing learning rate to 1.5625000742147677e-05.\n",
            "215/215 [==============================] - 55s 256ms/step - loss: 0.0012 - accuracy: 0.9997 - val_loss: 1.3931e-04 - val_accuracy: 1.0000\n",
            "Epoch 26/100\n",
            "215/215 [==============================] - 55s 255ms/step - loss: 8.4366e-04 - accuracy: 0.9999 - val_loss: 2.1556e-04 - val_accuracy: 1.0000\b\b\b\b\b\b\b\b\b\b\b\b\b\b\b\b\b\b\b\b\b\b\b\b\b\b\b\b\b\b\b\b\b\b\b\b\b\n",
            "Epoch 27/100\n",
            "214/215 [============================>.] - ETA: 0s - loss: 5.7156e-04 - accuracy: 0.9999\b\b\b\b\b\b\b\b\b\b\b\b\b\b\b\b\b\b\b\b\b\b\b\b\b\b\b\b\b\b\b\b\b\b\b\b\b\b\b\b\b\b\b\b\b\b\b\b\b\b\b\b\b\b\b\b\b\b\b\b\b\b\b\b\b\b\b\b\b\b\b\b\b\b\b\b\b\b\b\b\b\b\b\b\b\b\b\b\b\b\n",
            "Epoch 00027: ReduceLROnPlateau reducing learning rate to 1e-05.\n",
            "215/215 [==============================] - 55s 256ms/step - loss: 5.6913e-04 - accuracy: 0.9999 - val_loss: 1.4927e-04 - val_accuracy: 1.0000\n",
            "Epoch 28/100\n",
            "215/215 [==============================] - 55s 256ms/step - loss: 9.0181e-04 - accuracy: 0.9997 - val_loss: 1.3816e-04 - val_accuracy: 1.0000\b\b\b\b\b\b\b\b\b\b\b\b\b\b\b\b\b\b\b\b\b\b\b\b\b\b\b\b\b\b\b\b\b\b\b\b\b\n",
            "Epoch 29/100\n",
            "215/215 [==============================] - 55s 254ms/step - loss: 6.8583e-04 - accuracy: 0.9999 - val_loss: 1.5190e-04 - val_accuracy: 1.0000\b\b\b\b\b\b\b\b\b\b\b\b\b\b\b\b\b\b\b\b\b\b\b\b\b\b\b\b\b\b\b\b\b\b\b\b\b\n",
            "Epoch 30/100\n",
            "215/215 [==============================] - 55s 254ms/step - loss: 6.0935e-04 - accuracy: 0.9999 - val_loss: 1.7679e-04 - val_accuracy: 1.0000\b\b\b\b\b\b\b\b\b\b\b\b\b\b\b\b\b\b\b\b\b\b\b\b\b\b\b\b\b\b\b\b\b\b\b\b\b\n",
            "Epoch 31/100\n",
            "215/215 [==============================] - 55s 254ms/step - loss: 8.8446e-04 - accuracy: 0.9997 - val_loss: 1.1320e-04 - val_accuracy: 1.0000\b\b\b\b\b\b\b\b\b\b\b\b\b\b\b\b\b\b\b\b\b\b\b\b\b\b\b\b\b\b\b\b\b\b\b\b\b\n",
            "Epoch 32/100\n",
            "215/215 [==============================] - 55s 255ms/step - loss: 5.3290e-04 - accuracy: 1.0000 - val_loss: 1.4200e-04 - val_accuracy: 1.0000\b\b\b\b\b\b\b\b\b\b\b\b\b\b\b\b\b\b\b\b\b\b\b\b\b\b\b\b\b\b\b\b\b\b\b\b\b\n",
            "Epoch 33/100\n",
            "215/215 [==============================] - 55s 254ms/step - loss: 7.4297e-04 - accuracy: 0.9998 - val_loss: 1.6717e-04 - val_accuracy: 1.0000\b\b\b\b\b\b\b\b\b\b\b\b\b\b\b\b\b\b\b\b\b\b\b\b\b\b\b\b\b\b\b\b\b\b\b\b\b\n",
            "Epoch 34/100\n",
            "215/215 [==============================] - 55s 254ms/step - loss: 8.5511e-04 - accuracy: 0.9997 - val_loss: 1.7521e-04 - val_accuracy: 1.0000\b\b\b\b\b\b\b\b\b\b\b\b\b\b\b\b\b\b\b\b\b\b\b\b\b\b\b\b\b\b\b\b\b\b\b\b\b\n",
            "Epoch 35/100\n",
            "215/215 [==============================] - 55s 254ms/step - loss: 8.2535e-04 - accuracy: 0.9997 - val_loss: 1.7390e-04 - val_accuracy: 1.0000\b\b\b\b\b\b\b\b\b\b\b\b\b\b\b\b\b\b\b\b\b\b\b\b\b\b\b\b\b\b\b\b\b\b\b\b\b\n",
            "Epoch 36/100\n",
            "215/215 [==============================] - 55s 254ms/step - loss: 7.1138e-04 - accuracy: 0.9998 - val_loss: 1.5046e-04 - val_accuracy: 1.0000\b\b\b\b\b\b\b\b\b\b\b\b\b\b\b\b\b\b\b\b\b\b\b\b\b\b\b\b\b\b\b\b\b\b\b\b\b\n",
            "Epoch 37/100\n",
            "215/215 [==============================] - 55s 254ms/step - loss: 5.7084e-04 - accuracy: 0.9999 - val_loss: 1.3694e-04 - val_accuracy: 1.0000\b\b\b\b\b\b\b\b\b\b\b\b\b\b\b\b\b\b\b\b\b\b\b\b\b\b\b\b\b\b\b\b\b\b\b\b\b\n",
            "Epoch 00037: early stopping\n"
          ]
        }
      ],
      "execution_count": 39,
      "metadata": {
        "collapsed": true,
        "jupyter": {
          "source_hidden": false,
          "outputs_hidden": false
        },
        "nteract": {
          "transient": {
            "deleting": false
          }
        },
        "gather": {
          "logged": 1623396609347
        }
      }
    },
    {
      "cell_type": "code",
      "source": [
        "#save the model\r\n",
        "path=\"Users/odl_user_146963/model\"\r\n",
        "model.save(\"iSpeakCNNModel.h5\",path)"
      ],
      "outputs": [],
      "execution_count": 45,
      "metadata": {
        "collapsed": true,
        "jupyter": {
          "source_hidden": false,
          "outputs_hidden": false
        },
        "nteract": {
          "transient": {
            "deleting": false
          }
        },
        "gather": {
          "logged": 1623396904961
        }
      }
    },
    {
      "cell_type": "code",
      "source": [
        "#plot the graphs for accuracy and loss in the training and validation set\r\n",
        "epochs = [i for i in range(37)]\r\n",
        "fig , ax = plt.subplots(1,2)\r\n",
        "train_acc = history.history['accuracy']\r\n",
        "train_loss = history.history['loss']\r\n",
        "val_acc = history.history['val_accuracy']\r\n",
        "val_loss = history.history['val_loss']\r\n",
        "fig.set_size_inches(16,9)\r\n",
        "\r\n",
        "ax[0].plot(epochs , train_acc , 'go-' , label = 'Training Accuracy')\r\n",
        "ax[0].plot(epochs , val_acc , 'ro-' , label = 'Testing Accuracy')\r\n",
        "ax[0].set_title('Training & Validation Accuracy')\r\n",
        "ax[0].legend()\r\n",
        "ax[0].set_xlabel(\"Epochs\")\r\n",
        "ax[0].set_ylabel(\"Accuracy\")\r\n",
        "\r\n",
        "ax[1].plot(epochs , train_loss , 'g-o' , label = 'Training Loss')\r\n",
        "ax[1].plot(epochs , val_loss , 'r-o' , label = 'Testing Loss')\r\n",
        "ax[1].set_title('Testing Accuracy & Loss')\r\n",
        "ax[1].legend()\r\n",
        "ax[1].set_xlabel(\"Epochs\")\r\n",
        "ax[1].set_ylabel(\"Loss\")\r\n",
        "plt.show()"
      ],
      "outputs": [
        {
          "output_type": "display_data",
          "data": {
            "text/plain": "<Figure size 1152x648 with 2 Axes>",
            "image/png": "[encoded data removed]"
          },
          "metadata": {
            "needs_background": "light"
          }
        }
      ],
      "execution_count": 46,
      "metadata": {
        "collapsed": true,
        "jupyter": {
          "source_hidden": false,
          "outputs_hidden": false
        },
        "nteract": {
          "transient": {
            "deleting": false
          }
        },
        "gather": {
          "logged": 1623397170639
        }
      }
    }
  ],
  "metadata": {
    "kernelspec": {
      "name": "python3-azureml",
      "language": "python",
      "display_name": "Python 3.6 - AzureML"
    },
    "language_info": {
      "name": "python",
      "version": "3.6.9",
      "mimetype": "text/x-python",
      "codemirror_mode": {
        "name": "ipython",
        "version": 3
      },
      "pygments_lexer": "ipython3",
      "nbconvert_exporter": "python",
      "file_extension": ".py"
    },
    "kernel_info": {
      "name": "python3-azureml"
    },
    "microsoft": {
      "host": {
        "AzureML": {
          "notebookHasBeenCompleted": true
        }
      }
    },
    "nteract": {
      "version": "nteract-front-end@1.0.0"
    }
  },
  "nbformat": 4,
  "nbformat_minor": 2
}